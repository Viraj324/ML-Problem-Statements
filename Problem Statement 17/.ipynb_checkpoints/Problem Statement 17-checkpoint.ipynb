{
 "cells": [
  {
   "cell_type": "code",
   "execution_count": null,
   "id": "220ac282",
   "metadata": {},
   "outputs": [],
   "source": [
    "Market Basket Analysis: Apriori Algorithm \n",
    "Dataset: Order3.csv\n",
    "The dataset has 20507 rows and 5 columns of the purchase orders of people from \n",
    "the bakery. These orders can be analysed, and association rules can be generated \n",
    "using Market Basket Analysis by algorithms like Apriori Algorithm.\n",
    "Follow following steps:\n",
    "a. Data Pre-processing\n",
    "b. Generate the list of transactions from the dataset\n",
    "c. Train Apriori algorithm on the dataset\n",
    "d. Visualize the list of rules"
   ]
  },
  {
   "cell_type": "code",
   "execution_count": 1,
   "id": "dd9eb6af",
   "metadata": {},
   "outputs": [],
   "source": [
    "import pandas as pd\n",
    "from mlxtend.preprocessing import TransactionEncoder\n",
    "from mlxtend.frequent_patterns import apriori,association_rules\n",
    "import matplotlib.pyplot as plt"
   ]
  },
  {
   "cell_type": "code",
   "execution_count": 2,
   "id": "5eff0fe7",
   "metadata": {},
   "outputs": [],
   "source": [
    "data = pd.read_csv('Oder3.csv')"
   ]
  },
  {
   "cell_type": "code",
   "execution_count": 3,
   "id": "2c92f90c",
   "metadata": {},
   "outputs": [
    {
     "name": "stdout",
     "output_type": "stream",
     "text": [
      "<class 'pandas.core.frame.DataFrame'>\n",
      "RangeIndex: 20507 entries, 0 to 20506\n",
      "Data columns (total 5 columns):\n",
      " #   Column         Non-Null Count  Dtype \n",
      "---  ------         --------------  ----- \n",
      " 0   TransactionNo  20507 non-null  int64 \n",
      " 1   Items          20507 non-null  object\n",
      " 2   DateTime       20507 non-null  object\n",
      " 3   Daypart        20507 non-null  object\n",
      " 4   DayType        20507 non-null  object\n",
      "dtypes: int64(1), object(4)\n",
      "memory usage: 801.2+ KB\n"
     ]
    }
   ],
   "source": [
    "data.info()"
   ]
  },
  {
   "cell_type": "code",
   "execution_count": 4,
   "id": "6b0fcdcc",
   "metadata": {},
   "outputs": [
    {
     "data": {
      "text/plain": [
       "TransactionNo    0\n",
       "Items            0\n",
       "DateTime         0\n",
       "Daypart          0\n",
       "DayType          0\n",
       "dtype: int64"
      ]
     },
     "execution_count": 4,
     "metadata": {},
     "output_type": "execute_result"
    }
   ],
   "source": [
    "data.isnull().sum()"
   ]
  },
  {
   "cell_type": "code",
   "execution_count": 6,
   "id": "bb6ab5a3",
   "metadata": {},
   "outputs": [],
   "source": [
    "data['DateTime'] = pd.to_datetime(data['DateTime'])"
   ]
  },
  {
   "cell_type": "code",
   "execution_count": 7,
   "id": "91ae4ea8",
   "metadata": {},
   "outputs": [],
   "source": [
    "transaction = data.groupby('TransactionNo')['Items'].apply(list).tolist()"
   ]
  },
  {
   "cell_type": "code",
   "execution_count": 9,
   "id": "c0d81021",
   "metadata": {},
   "outputs": [],
   "source": [
    "te = TransactionEncoder()\n",
    "te_arry = te.fit(transaction).transform(transaction)\n",
    "df = pd.DataFrame(te_arry,columns=te.columns_)"
   ]
  },
  {
   "cell_type": "code",
   "execution_count": 10,
   "id": "5041f582",
   "metadata": {},
   "outputs": [],
   "source": [
    "frequent_items = apriori(df,min_support=0.02,use_colnames=True)\n"
   ]
  },
  {
   "cell_type": "code",
   "execution_count": 11,
   "id": "4ae90964",
   "metadata": {},
   "outputs": [],
   "source": [
    "rules = association_rules(frequent_items,metric='lift',min_threshold=1)"
   ]
  },
  {
   "cell_type": "code",
   "execution_count": 12,
   "id": "65a885b1",
   "metadata": {},
   "outputs": [
    {
     "name": "stdout",
     "output_type": "stream",
     "text": [
      "Frequent Item\n",
      "     support                 itemsets\n",
      "0   0.036344              (Alfajores)\n",
      "1   0.327205                  (Bread)\n",
      "2   0.040042                (Brownie)\n",
      "3   0.103856                   (Cake)\n",
      "4   0.478394                 (Coffee)\n",
      "5   0.054411                (Cookies)\n",
      "6   0.039197             (Farm House)\n",
      "7   0.058320          (Hot chocolate)\n",
      "8   0.038563                  (Juice)\n",
      "9   0.061807              (Medialuna)\n",
      "10  0.038457                 (Muffin)\n",
      "11  0.086107                 (Pastry)\n",
      "12  0.071844               (Sandwich)\n",
      "13  0.029054           (Scandinavian)\n",
      "14  0.034548                  (Scone)\n",
      "15  0.034443                   (Soup)\n",
      "16  0.142631                    (Tea)\n",
      "17  0.033597                  (Toast)\n",
      "18  0.020285               (Truffles)\n",
      "19  0.023349            (Cake, Bread)\n",
      "20  0.090016          (Coffee, Bread)\n",
      "21  0.029160          (Pastry, Bread)\n",
      "22  0.028104             (Tea, Bread)\n",
      "23  0.054728           (Cake, Coffee)\n",
      "24  0.023772              (Cake, Tea)\n",
      "25  0.028209        (Cookies, Coffee)\n",
      "26  0.029583  (Hot chocolate, Coffee)\n",
      "27  0.020602          (Juice, Coffee)\n",
      "28  0.035182      (Medialuna, Coffee)\n",
      "29  0.047544         (Pastry, Coffee)\n",
      "30  0.038246       (Sandwich, Coffee)\n",
      "31  0.049868            (Tea, Coffee)\n",
      "32  0.023666          (Toast, Coffee)\n"
     ]
    }
   ],
   "source": [
    "print('Frequent Item')\n",
    "print(frequent_items)"
   ]
  },
  {
   "cell_type": "code",
   "execution_count": 13,
   "id": "55f2cfa1",
   "metadata": {},
   "outputs": [
    {
     "name": "stdout",
     "output_type": "stream",
     "text": [
      "Rules\n",
      "        antecedents      consequents  antecedent support  ...  leverage  conviction  zhangs_metric\n",
      "0          (Pastry)          (Bread)            0.086107  ...  0.000985    1.017305       0.036980\n",
      "1           (Bread)         (Pastry)            0.327205  ...  0.000985    1.003306       0.050231\n",
      "2            (Cake)         (Coffee)            0.103856  ...  0.005044    1.102664       0.102840\n",
      "3          (Coffee)           (Cake)            0.478394  ...  0.005044    1.011905       0.176684\n",
      "4            (Cake)            (Tea)            0.103856  ...  0.008959    1.111865       0.420538\n",
      "5             (Tea)           (Cake)            0.142631  ...  0.008959    1.075372       0.439556\n",
      "6         (Cookies)         (Coffee)            0.054411  ...  0.002179    1.083174       0.081700\n",
      "7          (Coffee)        (Cookies)            0.478394  ...  0.002179    1.004841       0.148110\n",
      "8   (Hot chocolate)         (Coffee)            0.058320  ...  0.001683    1.058553       0.060403\n",
      "9          (Coffee)  (Hot chocolate)            0.478394  ...  0.001683    1.003749       0.109048\n",
      "10          (Juice)         (Coffee)            0.038563  ...  0.002154    1.119919       0.108738\n",
      "11         (Coffee)          (Juice)            0.478394  ...  0.002154    1.004705       0.200428\n",
      "12      (Medialuna)         (Coffee)            0.061807  ...  0.005614    1.210871       0.170091\n",
      "13         (Coffee)      (Medialuna)            0.478394  ...  0.005614    1.012667       0.305936\n",
      "14         (Pastry)         (Coffee)            0.086107  ...  0.006351    1.164682       0.146161\n",
      "15         (Coffee)         (Pastry)            0.478394  ...  0.006351    1.014740       0.256084\n",
      "16       (Sandwich)         (Coffee)            0.071844  ...  0.003877    1.115384       0.109205\n",
      "17         (Coffee)       (Sandwich)            0.478394  ...  0.003877    1.008807       0.194321\n",
      "18          (Toast)         (Coffee)            0.033597  ...  0.007593    1.764582       0.332006\n",
      "19         (Coffee)          (Toast)            0.478394  ...  0.007593    1.016699       0.615122\n",
      "\n",
      "[20 rows x 10 columns]\n"
     ]
    }
   ],
   "source": [
    "print('Rules')\n",
    "print(rules)"
   ]
  },
  {
   "cell_type": "code",
   "execution_count": 16,
   "id": "68a06851",
   "metadata": {},
   "outputs": [
    {
     "data": {
      "image/png": "[encoded data removed]",
      "text/plain": [
       "<Figure size 1000x600 with 1 Axes>"
      ]
     },
     "metadata": {},
     "output_type": "display_data"
    }
   ],
   "source": [
    "plt.figure(figsize=(10,6))\n",
    "plt.scatter(rules['support'],rules['antecedents'].apply(len),alpha=0.5)\n",
    "plt.title('Items vs. Daypart')\n",
    "plt.xlabel('Items')\n",
    "plt.ylabel('Daypart')\n",
    "plt.show()"
   ]
  },
  {
   "cell_type": "code",
   "execution_count": null,
   "id": "2ff611f6",
   "metadata": {},
   "outputs": [],
   "source": []
  }
 ],
 "metadata": {
  "kernelspec": {
   "display_name": "Python 3 (ipykernel)",
   "language": "python",
   "name": "python3"
  },
  "language_info": {
   "codemirror_mode": {
    "name": "ipython",
    "version": 3
   },
   "file_extension": ".py",
   "mimetype": "text/x-python",
   "name": "python",
   "nbconvert_exporter": "python",
   "pygments_lexer": "ipython3",
   "version": "3.11.4"
  }
 },
 "nbformat": 4,
 "nbformat_minor": 5
}
