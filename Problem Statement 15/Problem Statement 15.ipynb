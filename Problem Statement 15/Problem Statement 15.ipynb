{
 "cells": [
  {
   "cell_type": "code",
   "execution_count": null,
   "id": "6fcc246b",
   "metadata": {},
   "outputs": [],
   "source": [
    "Market Basket Analysis: Apriori Algorithm \n",
    "Dataset: Order1.csv\n",
    "The dataset has 38765 rows of the purchase orders of people from the \n",
    "grocery stores. These orders can be analysed, and association rules can \n",
    "be generated using Market Basket Analysis by algorithms like Apriori \n",
    "Algorithm.\n",
    "Follow following Steps:\n",
    "a. Data Pre-processing\n",
    "b. Generate the list of transactions fromthe dataset\n",
    "c. Train Apriori on the dataset\n",
    "d. Visualize the list of datasets\n"
   ]
  },
  {
   "cell_type": "code",
   "execution_count": 6,
   "id": "a26d2ca0",
   "metadata": {},
   "outputs": [
    {
     "name": "stdout",
     "output_type": "stream",
     "text": [
      "Collecting mlxtend\n",
      "  Downloading mlxtend-0.23.0-py3-none-any.whl (1.4 MB)\n",
      "                                              0.0/1.4 MB ? eta -:--:--\n",
      "                                              0.0/1.4 MB ? eta -:--:--\n",
      "                                              0.0/1.4 MB ? eta -:--:--\n",
      "                                              0.0/1.4 MB ? eta -:--:--\n",
      "     --                                       0.1/1.4 MB 525.1 kB/s eta 0:00:03\n",
      "     ---                                      0.1/1.4 MB 516.7 kB/s eta 0:00:03\n",
      "     ----                                     0.2/1.4 MB 614.4 kB/s eta 0:00:03\n",
      "     -----                                    0.2/1.4 MB 692.4 kB/s eta 0:00:02\n",
      "     ------                                   0.2/1.4 MB 754.9 kB/s eta 0:00:02\n",
      "     -------                                  0.3/1.4 MB 770.1 kB/s eta 0:00:02\n",
      "     ---------                                0.3/1.4 MB 754.0 kB/s eta 0:00:02\n",
      "     ---------                                0.3/1.4 MB 723.4 kB/s eta 0:00:02\n",
      "     ----------                               0.4/1.4 MB 740.5 kB/s eta 0:00:02\n",
      "     -----------                              0.4/1.4 MB 775.5 kB/s eta 0:00:02\n",
      "     -----------                              0.4/1.4 MB 728.8 kB/s eta 0:00:02\n",
      "     ------------                             0.5/1.4 MB 720.0 kB/s eta 0:00:02\n",
      "     -------------                            0.5/1.4 MB 715.5 kB/s eta 0:00:02\n",
      "     --------------                           0.5/1.4 MB 713.1 kB/s eta 0:00:02\n",
      "     --------------                           0.5/1.4 MB 711.5 kB/s eta 0:00:02\n",
      "     ---------------                          0.6/1.4 MB 693.6 kB/s eta 0:00:02\n",
      "     ----------------                         0.6/1.4 MB 716.7 kB/s eta 0:00:02\n",
      "     ------------------                       0.7/1.4 MB 736.4 kB/s eta 0:00:02\n",
      "     -------------------                      0.7/1.4 MB 757.3 kB/s eta 0:00:01\n",
      "     -------------------                      0.7/1.4 MB 757.3 kB/s eta 0:00:01\n",
      "     ----------------------                   0.8/1.4 MB 784.6 kB/s eta 0:00:01\n",
      "     -----------------------                  0.8/1.4 MB 790.7 kB/s eta 0:00:01\n",
      "     ------------------------                 0.9/1.4 MB 803.3 kB/s eta 0:00:01\n",
      "     --------------------------               1.0/1.4 MB 826.4 kB/s eta 0:00:01\n",
      "     ---------------------------              1.0/1.4 MB 836.8 kB/s eta 0:00:01\n",
      "     ----------------------------             1.0/1.4 MB 838.1 kB/s eta 0:00:01\n",
      "     ------------------------------           1.1/1.4 MB 847.3 kB/s eta 0:00:01\n",
      "     -------------------------------          1.1/1.4 MB 866.3 kB/s eta 0:00:01\n",
      "     --------------------------------         1.2/1.4 MB 869.2 kB/s eta 0:00:01\n",
      "     ---------------------------------        1.2/1.4 MB 866.7 kB/s eta 0:00:01\n",
      "     ------------------------------------     1.3/1.4 MB 899.8 kB/s eta 0:00:01\n",
      "     -------------------------------------    1.3/1.4 MB 906.8 kB/s eta 0:00:01\n",
      "     --------------------------------------   1.4/1.4 MB 907.4 kB/s eta 0:00:01\n",
      "     ---------------------------------------  1.4/1.4 MB 908.5 kB/s eta 0:00:01\n",
      "     ---------------------------------------  1.4/1.4 MB 908.5 kB/s eta 0:00:01\n",
      "     ---------------------------------------  1.4/1.4 MB 908.5 kB/s eta 0:00:01\n",
      "     ---------------------------------------  1.4/1.4 MB 908.5 kB/s eta 0:00:01\n",
      "     ---------------------------------------  1.4/1.4 MB 908.5 kB/s eta 0:00:01\n",
      "     ---------------------------------------- 1.4/1.4 MB 808.2 kB/s eta 0:00:00\n",
      "Requirement already satisfied: scipy>=1.2.1 in c:\\users\\admin\\desktop\\sample_project_1\\env\\lib\\site-packages (from mlxtend) (1.9.3)\n",
      "Requirement already satisfied: numpy>=1.16.2 in c:\\users\\admin\\desktop\\sample_project_1\\env\\lib\\site-packages (from mlxtend) (1.25.0)\n",
      "Requirement already satisfied: pandas>=0.24.2 in c:\\users\\admin\\desktop\\sample_project_1\\env\\lib\\site-packages (from mlxtend) (1.5.3)\n",
      "Requirement already satisfied: scikit-learn>=1.0.2 in c:\\users\\admin\\desktop\\sample_project_1\\env\\lib\\site-packages (from mlxtend) (1.3.2)\n",
      "Requirement already satisfied: matplotlib>=3.0.0 in c:\\users\\admin\\desktop\\sample_project_1\\env\\lib\\site-packages (from mlxtend) (3.7.1)\n",
      "Requirement already satisfied: joblib>=0.13.2 in c:\\users\\admin\\desktop\\sample_project_1\\env\\lib\\site-packages (from mlxtend) (1.2.0)\n",
      "Requirement already satisfied: contourpy>=1.0.1 in c:\\users\\admin\\desktop\\sample_project_1\\env\\lib\\site-packages (from matplotlib>=3.0.0->mlxtend) (1.0.5)\n",
      "Requirement already satisfied: cycler>=0.10 in c:\\users\\admin\\desktop\\sample_project_1\\env\\lib\\site-packages (from matplotlib>=3.0.0->mlxtend) (0.11.0)\n",
      "Requirement already satisfied: fonttools>=4.22.0 in c:\\users\\admin\\desktop\\sample_project_1\\env\\lib\\site-packages (from matplotlib>=3.0.0->mlxtend) (4.25.0)\n",
      "Requirement already satisfied: kiwisolver>=1.0.1 in c:\\users\\admin\\desktop\\sample_project_1\\env\\lib\\site-packages (from matplotlib>=3.0.0->mlxtend) (1.4.4)\n",
      "Requirement already satisfied: packaging>=20.0 in c:\\users\\admin\\desktop\\sample_project_1\\env\\lib\\site-packages (from matplotlib>=3.0.0->mlxtend) (23.0)\n",
      "Requirement already satisfied: pillow>=6.2.0 in c:\\users\\admin\\desktop\\sample_project_1\\env\\lib\\site-packages (from matplotlib>=3.0.0->mlxtend) (9.4.0)\n",
      "Requirement already satisfied: pyparsing>=2.3.1 in c:\\users\\admin\\desktop\\sample_project_1\\env\\lib\\site-packages (from matplotlib>=3.0.0->mlxtend) (3.0.9)\n",
      "Requirement already satisfied: python-dateutil>=2.7 in c:\\users\\admin\\desktop\\sample_project_1\\env\\lib\\site-packages (from matplotlib>=3.0.0->mlxtend) (2.8.2)\n",
      "Requirement already satisfied: pytz>=2020.1 in c:\\users\\admin\\desktop\\sample_project_1\\env\\lib\\site-packages (from pandas>=0.24.2->mlxtend) (2022.7)\n",
      "Requirement already satisfied: threadpoolctl>=2.0.0 in c:\\users\\admin\\desktop\\sample_project_1\\env\\lib\\site-packages (from scikit-learn>=1.0.2->mlxtend) (2.2.0)\n",
      "Requirement already satisfied: six>=1.5 in c:\\users\\admin\\desktop\\sample_project_1\\env\\lib\\site-packages (from python-dateutil>=2.7->matplotlib>=3.0.0->mlxtend) (1.16.0)\n",
      "Installing collected packages: mlxtend\n",
      "Successfully installed mlxtend-0.23.0\n"
     ]
    },
    {
     "name": "stderr",
     "output_type": "stream",
     "text": [
      "\n",
      "[notice] A new release of pip is available: 23.1.2 -> 23.3.1\n",
      "[notice] To update, run: python.exe -m pip install --upgrade pip\n"
     ]
    }
   ],
   "source": [
    "!pip install mlxtend\n"
   ]
  },
  {
   "cell_type": "code",
   "execution_count": 8,
   "id": "c0c41f9a",
   "metadata": {
    "scrolled": true
   },
   "outputs": [],
   "source": [
    "import pandas as pd\n",
    "from mlxtend.preprocessing import TransactionEncoder \n",
    "from mlxtend.frequent_patterns import apriori,association_rules\n",
    "import matplotlib.pyplot as plt\n",
    "import seaborn as sns"
   ]
  },
  {
   "cell_type": "code",
   "execution_count": 2,
   "id": "8abc74be",
   "metadata": {},
   "outputs": [],
   "source": [
    "data = pd.read_csv('Order1.csv')"
   ]
  },
  {
   "cell_type": "code",
   "execution_count": 3,
   "id": "cd6214aa",
   "metadata": {},
   "outputs": [
    {
     "name": "stdout",
     "output_type": "stream",
     "text": [
      "<class 'pandas.core.frame.DataFrame'>\n",
      "RangeIndex: 38765 entries, 0 to 38764\n",
      "Data columns (total 3 columns):\n",
      " #   Column           Non-Null Count  Dtype \n",
      "---  ------           --------------  ----- \n",
      " 0   Member_number    38765 non-null  int64 \n",
      " 1   Date             38765 non-null  object\n",
      " 2   itemDescription  38765 non-null  object\n",
      "dtypes: int64(1), object(2)\n",
      "memory usage: 908.7+ KB\n"
     ]
    }
   ],
   "source": [
    "data.info()"
   ]
  },
  {
   "cell_type": "code",
   "execution_count": 4,
   "id": "e8c0d7d7",
   "metadata": {},
   "outputs": [
    {
     "data": {
      "text/plain": [
       "Member_number      0\n",
       "Date               0\n",
       "itemDescription    0\n",
       "dtype: int64"
      ]
     },
     "execution_count": 4,
     "metadata": {},
     "output_type": "execute_result"
    }
   ],
   "source": [
    "data.isnull().sum()"
   ]
  },
  {
   "cell_type": "code",
   "execution_count": 22,
   "id": "84b68c3f",
   "metadata": {},
   "outputs": [],
   "source": [
    "data['Date'] = pd.to_datetime(data['Date'])"
   ]
  },
  {
   "cell_type": "code",
   "execution_count": 23,
   "id": "d8988c7f",
   "metadata": {},
   "outputs": [],
   "source": [
    "transactions = data.groupby('Member_number')['itemDescription'].apply(list).tolist()"
   ]
  },
  {
   "cell_type": "code",
   "execution_count": 24,
   "id": "3c4bd9fc",
   "metadata": {},
   "outputs": [],
   "source": [
    "te = TransactionEncoder()\n",
    "te_ary = te.fit(transactions).transform(transactions)\n",
    "df = pd.DataFrame(te_ary, columns=te.columns_)"
   ]
  },
  {
   "cell_type": "code",
   "execution_count": 25,
   "id": "b927a481",
   "metadata": {},
   "outputs": [],
   "source": [
    "min_support = 0.02\n",
    "frequent_itemsets = apriori(df, min_support=min_support, use_colnames=True)"
   ]
  },
  {
   "cell_type": "code",
   "execution_count": 26,
   "id": "b9e0215a",
   "metadata": {},
   "outputs": [],
   "source": [
    "rules = association_rules(frequent_itemsets, metric=\"lift\", min_threshold=1)"
   ]
  },
  {
   "cell_type": "code",
   "execution_count": 27,
   "id": "1ada8856",
   "metadata": {},
   "outputs": [
    {
     "name": "stdout",
     "output_type": "stream",
     "text": [
      "List of Datasets:\n",
      "      support                                           itemsets\n",
      "0    0.078502                                         (UHT-milk)\n",
      "1    0.031042                                    (baking powder)\n",
      "2    0.119548                                             (beef)\n",
      "3    0.079785                                          (berries)\n",
      "4    0.062083                                        (beverages)\n",
      "..        ...                                                ...\n",
      "889  0.027963       (other vegetables, soda, whole milk, yogurt)\n",
      "890  0.021293  (tropical fruit, other vegetables, whole milk,...\n",
      "891  0.021036            (sausage, whole milk, soda, rolls/buns)\n",
      "892  0.022832          (sausage, whole milk, rolls/buns, yogurt)\n",
      "893  0.024628             (whole milk, soda, rolls/buns, yogurt)\n",
      "\n",
      "[894 rows x 2 columns]\n"
     ]
    }
   ],
   "source": [
    "print(\"List of Datasets:\")\n",
    "print(frequent_itemsets)"
   ]
  },
  {
   "cell_type": "code",
   "execution_count": 28,
   "id": "4d1e2154",
   "metadata": {},
   "outputs": [
    {
     "name": "stdout",
     "output_type": "stream",
     "text": [
      "\n",
      "Association Rules:\n",
      "               antecedents                       consequents  \\\n",
      "0               (UHT-milk)                   (bottled water)   \n",
      "1          (bottled water)                        (UHT-milk)   \n",
      "2       (other vegetables)                        (UHT-milk)   \n",
      "3               (UHT-milk)                (other vegetables)   \n",
      "4               (UHT-milk)                      (rolls/buns)   \n",
      "...                    ...                               ...   \n",
      "2951  (rolls/buns, yogurt)                (soda, whole milk)   \n",
      "2952          (whole milk)        (soda, rolls/buns, yogurt)   \n",
      "2953                (soda)  (yogurt, whole milk, rolls/buns)   \n",
      "2954          (rolls/buns)        (soda, whole milk, yogurt)   \n",
      "2955              (yogurt)    (soda, whole milk, rolls/buns)   \n",
      "\n",
      "      antecedent support  consequent support   support  confidence      lift  \\\n",
      "0               0.078502            0.213699  0.021293    0.271242  1.269268   \n",
      "1               0.213699            0.078502  0.021293    0.099640  1.269268   \n",
      "2               0.376603            0.078502  0.038994    0.103542  1.318979   \n",
      "3               0.078502            0.376603  0.038994    0.496732  1.318979   \n",
      "4               0.078502            0.349666  0.031042    0.395425  1.130863   \n",
      "...                  ...                 ...       ...         ...       ...   \n",
      "2951            0.111339            0.151103  0.024628    0.221198  1.463889   \n",
      "2952            0.458184            0.042329  0.024628    0.053751  1.269836   \n",
      "2953            0.313494            0.065931  0.024628    0.078560  1.191540   \n",
      "2954            0.349666            0.054387  0.024628    0.070433  1.295035   \n",
      "2955            0.282966            0.065162  0.024628    0.087035  1.335684   \n",
      "\n",
      "      leverage  conviction  zhangs_metric  \n",
      "0     0.004517    1.078960       0.230217  \n",
      "1     0.004517    1.023477       0.269801  \n",
      "2     0.009430    1.027933       0.387936  \n",
      "3     0.009430    1.238697       0.262440  \n",
      "4     0.003592    1.075687       0.125578  \n",
      "...        ...         ...            ...  \n",
      "2951  0.007804    1.090004       0.356590  \n",
      "2952  0.005233    1.012071       0.392193  \n",
      "2953  0.003959    1.013705       0.234157  \n",
      "2954  0.005611    1.017262       0.350312  \n",
      "2955  0.006190    1.023959       0.350499  \n",
      "\n",
      "[2956 rows x 10 columns]\n"
     ]
    }
   ],
   "source": [
    "print(\"\\nAssociation Rules:\")\n",
    "print(rules)"
   ]
  },
  {
   "cell_type": "code",
   "execution_count": 29,
   "id": "8845a48e",
   "metadata": {},
   "outputs": [
    {
     "data": {
      "image/png": "[encoded data removed]",
      "text/plain": [
       "<Figure size 1000x600 with 1 Axes>"
      ]
     },
     "metadata": {},
     "output_type": "display_data"
    }
   ],
   "source": [
    "plt.figure(figsize=(10, 6))\n",
    "plt.scatter(rules['support'], rules['antecedents'].apply(len), alpha=0.5)\n",
    "plt.title('Support vs. Itemset Size')\n",
    "plt.xlabel('Support')\n",
    "plt.ylabel('Itemset Size')\n",
    "plt.show()"
   ]
  },
  {
   "cell_type": "code",
   "execution_count": null,
   "id": "0f00ca51",
   "metadata": {},
   "outputs": [],
   "source": []
  }
 ],
 "metadata": {
  "kernelspec": {
   "display_name": "Python 3 (ipykernel)",
   "language": "python",
   "name": "python3"
  },
  "language_info": {
   "codemirror_mode": {
    "name": "ipython",
    "version": 3
   },
   "file_extension": ".py",
   "mimetype": "text/x-python",
   "name": "python",
   "nbconvert_exporter": "python",
   "pygments_lexer": "ipython3",
   "version": "3.11.4"
  }
 },
 "nbformat": 4,
 "nbformat_minor": 5
}
