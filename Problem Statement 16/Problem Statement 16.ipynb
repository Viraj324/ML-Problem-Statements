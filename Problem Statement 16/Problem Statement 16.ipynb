{
 "cells": [
  {
   "cell_type": "code",
   "execution_count": 1,
   "id": "b9e0151e",
   "metadata": {},
   "outputs": [
    {
     "ename": "SyntaxError",
     "evalue": "invalid syntax (195490267.py, line 1)",
     "output_type": "error",
     "traceback": [
      "\u001b[1;36m  Cell \u001b[1;32mIn[1], line 1\u001b[1;36m\u001b[0m\n\u001b[1;33m    Market Basket Analysis: Apriori Algorithm\u001b[0m\n\u001b[1;37m           ^\u001b[0m\n\u001b[1;31mSyntaxError\u001b[0m\u001b[1;31m:\u001b[0m invalid syntax\n"
     ]
    }
   ],
   "source": [
    "Market Basket Analysis: Apriori Algorithm \n",
    "Dataset: Order2.csv\n",
    "This dataset comprises the list of transactions of a retail company over the \n",
    "period of one week. It contains a total of 7501 transaction records where each \n",
    "record consists of the list of items sold in one transaction. Using this record of \n",
    "transactions and items in each transaction, find the association rules between \n",
    "items.\n",
    "There is no header in the dataset and the first row contains the first transaction, \n",
    "so mentioned header = None here while loading dataset. Follow following \n",
    "steps:\n",
    "a. Data Pre-processing\n",
    "b. Generate the list of transactions from the dataset\n",
    "c. Train Apriori algorithm on the dataset\n",
    "d. Visualize the list of rules"
   ]
  },
  {
   "cell_type": "code",
   "execution_count": 2,
   "id": "9a26384a",
   "metadata": {},
   "outputs": [],
   "source": [
    "import pandas as pd\n",
    "from mlxtend.preprocessing import TransactionEncoder\n",
    "from mlxtend.frequent_patterns import apriori,association_rules\n",
    "import matplotlib.pyplot as plt\n",
    "from sklearn.impute import SimpleImputer"
   ]
  },
  {
   "cell_type": "code",
   "execution_count": 3,
   "id": "e06ac330",
   "metadata": {},
   "outputs": [],
   "source": [
    "data = pd.read_csv('Order2.csv')"
   ]
  },
  {
   "cell_type": "code",
   "execution_count": 4,
   "id": "ba7885d7",
   "metadata": {},
   "outputs": [
    {
     "name": "stdout",
     "output_type": "stream",
     "text": [
      "<class 'pandas.core.frame.DataFrame'>\n",
      "RangeIndex: 7500 entries, 0 to 7499\n",
      "Data columns (total 20 columns):\n",
      " #   Column             Non-Null Count  Dtype  \n",
      "---  ------             --------------  -----  \n",
      " 0   shrimp             7500 non-null   object \n",
      " 1   almonds            5746 non-null   object \n",
      " 2   avocado            4388 non-null   object \n",
      " 3   vegetables mix     3344 non-null   object \n",
      " 4   green grapes       2528 non-null   object \n",
      " 5   whole weat flour   1863 non-null   object \n",
      " 6   yams               1368 non-null   object \n",
      " 7   cottage cheese     980 non-null    object \n",
      " 8   energy drink       653 non-null    object \n",
      " 9   tomato juice       394 non-null    object \n",
      " 10  low fat yogurt     255 non-null    object \n",
      " 11  green tea          153 non-null    object \n",
      " 12  honey              86 non-null     object \n",
      " 13  salad              46 non-null     object \n",
      " 14  mineral water      24 non-null     object \n",
      " 15  salmon             7 non-null      object \n",
      " 16  antioxydant juice  3 non-null      object \n",
      " 17  frozen smoothie    3 non-null      object \n",
      " 18  spinach            2 non-null      object \n",
      " 19  olive oil          0 non-null      float64\n",
      "dtypes: float64(1), object(19)\n",
      "memory usage: 1.1+ MB\n"
     ]
    }
   ],
   "source": [
    "data.info()"
   ]
  },
  {
   "cell_type": "code",
   "execution_count": 5,
   "id": "3e5b364d",
   "metadata": {},
   "outputs": [
    {
     "data": {
      "text/plain": [
       "shrimp                  0\n",
       "almonds              1754\n",
       "avocado              3112\n",
       "vegetables mix       4156\n",
       "green grapes         4972\n",
       "whole weat flour     5637\n",
       "yams                 6132\n",
       "cottage cheese       6520\n",
       "energy drink         6847\n",
       "tomato juice         7106\n",
       "low fat yogurt       7245\n",
       "green tea            7347\n",
       "honey                7414\n",
       "salad                7454\n",
       "mineral water        7476\n",
       "salmon               7493\n",
       "antioxydant juice    7497\n",
       "frozen smoothie      7497\n",
       "spinach              7498\n",
       "olive oil            7500\n",
       "dtype: int64"
      ]
     },
     "execution_count": 5,
     "metadata": {},
     "output_type": "execute_result"
    }
   ],
   "source": [
    "data.isnull().sum()"
   ]
  },
  {
   "cell_type": "code",
   "execution_count": 6,
   "id": "fd4df5de",
   "metadata": {},
   "outputs": [],
   "source": [
    "categorical_cols = ['almonds','avocado','vegetables mix','green grapes','whole weat flour','yams','cottage cheese','energy drink','tomato juice','low fat yogurt','green tea','honey','salad','mineral water','salmon','antioxydant juice','frozen smoothie','spinach']"
   ]
  },
  {
   "cell_type": "code",
   "execution_count": 7,
   "id": "ffb2bb58",
   "metadata": {},
   "outputs": [],
   "source": [
    "numerical_cols = ['olive oil']\n",
    "data = data.drop(columns=['olive oil'])\n",
    "\n"
   ]
  },
  {
   "cell_type": "code",
   "execution_count": 8,
   "id": "bb19ab7f",
   "metadata": {},
   "outputs": [
    {
     "name": "stdout",
     "output_type": "stream",
     "text": [
      "<class 'pandas.core.frame.DataFrame'>\n",
      "RangeIndex: 7500 entries, 0 to 7499\n",
      "Data columns (total 19 columns):\n",
      " #   Column             Non-Null Count  Dtype \n",
      "---  ------             --------------  ----- \n",
      " 0   shrimp             7500 non-null   object\n",
      " 1   almonds            5746 non-null   object\n",
      " 2   avocado            4388 non-null   object\n",
      " 3   vegetables mix     3344 non-null   object\n",
      " 4   green grapes       2528 non-null   object\n",
      " 5   whole weat flour   1863 non-null   object\n",
      " 6   yams               1368 non-null   object\n",
      " 7   cottage cheese     980 non-null    object\n",
      " 8   energy drink       653 non-null    object\n",
      " 9   tomato juice       394 non-null    object\n",
      " 10  low fat yogurt     255 non-null    object\n",
      " 11  green tea          153 non-null    object\n",
      " 12  honey              86 non-null     object\n",
      " 13  salad              46 non-null     object\n",
      " 14  mineral water      24 non-null     object\n",
      " 15  salmon             7 non-null      object\n",
      " 16  antioxydant juice  3 non-null      object\n",
      " 17  frozen smoothie    3 non-null      object\n",
      " 18  spinach            2 non-null      object\n",
      "dtypes: object(19)\n",
      "memory usage: 1.1+ MB\n"
     ]
    }
   ],
   "source": [
    "data.info()"
   ]
  },
  {
   "cell_type": "code",
   "execution_count": 9,
   "id": "bd48f223",
   "metadata": {},
   "outputs": [],
   "source": [
    "numerical_imputer = SimpleImputer(strategy='median')\n",
    "categorical_imputer = SimpleImputer(strategy='most_frequent')"
   ]
  },
  {
   "cell_type": "code",
   "execution_count": 10,
   "id": "8c6d07a2",
   "metadata": {},
   "outputs": [],
   "source": [
    "data[categorical_cols] = categorical_imputer.fit_transform(data[categorical_cols])\n"
   ]
  },
  {
   "cell_type": "code",
   "execution_count": 11,
   "id": "1bc5c9a4",
   "metadata": {},
   "outputs": [
    {
     "data": {
      "text/plain": [
       "shrimp               0\n",
       "almonds              0\n",
       "avocado              0\n",
       "vegetables mix       0\n",
       "green grapes         0\n",
       "whole weat flour     0\n",
       "yams                 0\n",
       "cottage cheese       0\n",
       "energy drink         0\n",
       "tomato juice         0\n",
       "low fat yogurt       0\n",
       "green tea            0\n",
       "honey                0\n",
       "salad                0\n",
       "mineral water        0\n",
       "salmon               0\n",
       "antioxydant juice    0\n",
       "frozen smoothie      0\n",
       "spinach              0\n",
       "dtype: int64"
      ]
     },
     "execution_count": 11,
     "metadata": {},
     "output_type": "execute_result"
    }
   ],
   "source": [
    "data.isnull().sum()"
   ]
  },
  {
   "cell_type": "code",
   "execution_count": 12,
   "id": "3a87ab53",
   "metadata": {},
   "outputs": [],
   "source": [
    "transactions = []\n",
    "for i in range(len(data)):\n",
    "    transactions.append([item for item in data.iloc[i, :] if not pd.isna(item)])\n"
   ]
  },
  {
   "cell_type": "code",
   "execution_count": 13,
   "id": "c457de32",
   "metadata": {},
   "outputs": [],
   "source": [
    "te = TransactionEncoder()\n",
    "te_arry = te.fit(transactions).transform(transactions)\n",
    "df = pd.DataFrame(te_arry,columns=te.columns_)"
   ]
  },
  {
   "cell_type": "code",
   "execution_count": null,
   "id": "46f6dfdd",
   "metadata": {},
   "outputs": [],
   "source": [
    "frequent_items = apriori(df,min_support=0.02,use_colnames=True)"
   ]
  },
  {
   "cell_type": "code",
   "execution_count": null,
   "id": "21312538",
   "metadata": {},
   "outputs": [],
   "source": [
    "rules = assoc"
   ]
  },
  {
   "cell_type": "code",
   "execution_count": null,
   "id": "0df5734a",
   "metadata": {},
   "outputs": [],
   "source": []
  }
 ],
 "metadata": {
  "kernelspec": {
   "display_name": "Python 3 (ipykernel)",
   "language": "python",
   "name": "python3"
  },
  "language_info": {
   "codemirror_mode": {
    "name": "ipython",
    "version": 3
   },
   "file_extension": ".py",
   "mimetype": "text/x-python",
   "name": "python",
   "nbconvert_exporter": "python",
   "pygments_lexer": "ipython3",
   "version": "3.11.4"
  }
 },
 "nbformat": 4,
 "nbformat_minor": 5
}
