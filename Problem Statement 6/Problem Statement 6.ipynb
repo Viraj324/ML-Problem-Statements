{
 "cells": [
  {
   "cell_type": "code",
   "execution_count": null,
   "id": "f9addb90",
   "metadata": {},
   "outputs": [],
   "source": [
    "Clustering: Hierarchical \n",
    "Dataset : hitters.csv\n",
    "Apply Data pre-processing (Label Encoding , Data \n",
    "Transformation….) techniques if necessary.\n",
    "Apply Hierarchical clustering algorithms (based on CRuns column) to \n",
    "find the group of players."
   ]
  },
  {
   "cell_type": "code",
   "execution_count": 5,
   "id": "7340f50d",
   "metadata": {},
   "outputs": [],
   "source": [
    "import pandas as pd\n",
    "from sklearn.preprocessing import LabelEncoder, StandardScaler\n",
    "from sklearn.cluster import AgglomerativeClustering\n",
    "import matplotlib.pyplot as plt\n",
    "import seaborn as sns\n",
    "from sklearn.impute import SimpleImputer"
   ]
  },
  {
   "cell_type": "code",
   "execution_count": 2,
   "id": "b08300ab",
   "metadata": {},
   "outputs": [],
   "source": [
    "data = pd.read_csv('Hitters.csv')"
   ]
  },
  {
   "cell_type": "code",
   "execution_count": 3,
   "id": "97772620",
   "metadata": {},
   "outputs": [
    {
     "data": {
      "text/plain": [
       "AtBat         0\n",
       "Hits          0\n",
       "HmRun         0\n",
       "Runs          0\n",
       "RBI           0\n",
       "Walks         0\n",
       "Years         0\n",
       "CAtBat        0\n",
       "CHits         0\n",
       "CHmRun        0\n",
       "CRuns         0\n",
       "CRBI          0\n",
       "CWalks        0\n",
       "League        0\n",
       "Division      0\n",
       "PutOuts       0\n",
       "Assists       0\n",
       "Errors        0\n",
       "Salary       59\n",
       "NewLeague     0\n",
       "dtype: int64"
      ]
     },
     "execution_count": 3,
     "metadata": {},
     "output_type": "execute_result"
    }
   ],
   "source": [
    "data.isnull().sum()"
   ]
  },
  {
   "cell_type": "code",
   "execution_count": 4,
   "id": "d5efaab1",
   "metadata": {},
   "outputs": [
    {
     "name": "stdout",
     "output_type": "stream",
     "text": [
      "<class 'pandas.core.frame.DataFrame'>\n",
      "RangeIndex: 322 entries, 0 to 321\n",
      "Data columns (total 20 columns):\n",
      " #   Column     Non-Null Count  Dtype  \n",
      "---  ------     --------------  -----  \n",
      " 0   AtBat      322 non-null    int64  \n",
      " 1   Hits       322 non-null    int64  \n",
      " 2   HmRun      322 non-null    int64  \n",
      " 3   Runs       322 non-null    int64  \n",
      " 4   RBI        322 non-null    int64  \n",
      " 5   Walks      322 non-null    int64  \n",
      " 6   Years      322 non-null    int64  \n",
      " 7   CAtBat     322 non-null    int64  \n",
      " 8   CHits      322 non-null    int64  \n",
      " 9   CHmRun     322 non-null    int64  \n",
      " 10  CRuns      322 non-null    int64  \n",
      " 11  CRBI       322 non-null    int64  \n",
      " 12  CWalks     322 non-null    int64  \n",
      " 13  League     322 non-null    object \n",
      " 14  Division   322 non-null    object \n",
      " 15  PutOuts    322 non-null    int64  \n",
      " 16  Assists    322 non-null    int64  \n",
      " 17  Errors     322 non-null    int64  \n",
      " 18  Salary     263 non-null    float64\n",
      " 19  NewLeague  322 non-null    object \n",
      "dtypes: float64(1), int64(16), object(3)\n",
      "memory usage: 50.4+ KB\n"
     ]
    }
   ],
   "source": [
    "data.info()"
   ]
  },
  {
   "cell_type": "code",
   "execution_count": 9,
   "id": "abb5dc25",
   "metadata": {},
   "outputs": [],
   "source": [
    "numeric_imputer = SimpleImputer(strategy = 'mean')"
   ]
  },
  {
   "cell_type": "code",
   "execution_count": 7,
   "id": "06fe1b3c",
   "metadata": {},
   "outputs": [],
   "source": [
    "numeric_cols = ['Salary']"
   ]
  },
  {
   "cell_type": "code",
   "execution_count": 10,
   "id": "5c7f9468",
   "metadata": {},
   "outputs": [],
   "source": [
    "data[numeric_cols] = numeric_imputer.fit_transform(data[numeric_cols])"
   ]
  },
  {
   "cell_type": "code",
   "execution_count": 11,
   "id": "873db2e5",
   "metadata": {},
   "outputs": [
    {
     "data": {
      "text/plain": [
       "AtBat        0\n",
       "Hits         0\n",
       "HmRun        0\n",
       "Runs         0\n",
       "RBI          0\n",
       "Walks        0\n",
       "Years        0\n",
       "CAtBat       0\n",
       "CHits        0\n",
       "CHmRun       0\n",
       "CRuns        0\n",
       "CRBI         0\n",
       "CWalks       0\n",
       "League       0\n",
       "Division     0\n",
       "PutOuts      0\n",
       "Assists      0\n",
       "Errors       0\n",
       "Salary       0\n",
       "NewLeague    0\n",
       "dtype: int64"
      ]
     },
     "execution_count": 11,
     "metadata": {},
     "output_type": "execute_result"
    }
   ],
   "source": [
    "data.isnull().sum()"
   ]
  },
  {
   "cell_type": "code",
   "execution_count": 13,
   "id": "2b8f2eb0",
   "metadata": {},
   "outputs": [
    {
     "name": "stdout",
     "output_type": "stream",
     "text": [
      "<class 'pandas.core.frame.DataFrame'>\n",
      "RangeIndex: 322 entries, 0 to 321\n",
      "Data columns (total 20 columns):\n",
      " #   Column     Non-Null Count  Dtype  \n",
      "---  ------     --------------  -----  \n",
      " 0   AtBat      322 non-null    int64  \n",
      " 1   Hits       322 non-null    int64  \n",
      " 2   HmRun      322 non-null    int64  \n",
      " 3   Runs       322 non-null    int64  \n",
      " 4   RBI        322 non-null    int64  \n",
      " 5   Walks      322 non-null    int64  \n",
      " 6   Years      322 non-null    int64  \n",
      " 7   CAtBat     322 non-null    int64  \n",
      " 8   CHits      322 non-null    int64  \n",
      " 9   CHmRun     322 non-null    int64  \n",
      " 10  CRuns      322 non-null    int64  \n",
      " 11  CRBI       322 non-null    int64  \n",
      " 12  CWalks     322 non-null    int64  \n",
      " 13  League     322 non-null    object \n",
      " 14  Division   322 non-null    object \n",
      " 15  PutOuts    322 non-null    int64  \n",
      " 16  Assists    322 non-null    int64  \n",
      " 17  Errors     322 non-null    int64  \n",
      " 18  Salary     322 non-null    float64\n",
      " 19  NewLeague  322 non-null    object \n",
      "dtypes: float64(1), int64(16), object(3)\n",
      "memory usage: 50.4+ KB\n"
     ]
    }
   ],
   "source": [
    "data.info()"
   ]
  },
  {
   "cell_type": "code",
   "execution_count": 12,
   "id": "cde1676e",
   "metadata": {},
   "outputs": [],
   "source": [
    "label_encoder = LabelEncoder()"
   ]
  },
  {
   "cell_type": "code",
   "execution_count": 14,
   "id": "d9650453",
   "metadata": {},
   "outputs": [],
   "source": [
    "data['League'] = label_encoder.fit_transform(data['League'])"
   ]
  },
  {
   "cell_type": "code",
   "execution_count": 15,
   "id": "40bb5e99",
   "metadata": {},
   "outputs": [],
   "source": [
    "data['Division'] = label_encoder.fit_transform(data['Division'])"
   ]
  },
  {
   "cell_type": "code",
   "execution_count": 16,
   "id": "51a86540",
   "metadata": {},
   "outputs": [],
   "source": [
    "data['NewLeague'] = label_encoder.fit_transform(data['NewLeague'])"
   ]
  },
  {
   "cell_type": "code",
   "execution_count": 17,
   "id": "2bbafe04",
   "metadata": {},
   "outputs": [],
   "source": [
    "data_encoded = data.copy()"
   ]
  },
  {
   "cell_type": "code",
   "execution_count": 20,
   "id": "908864a8",
   "metadata": {},
   "outputs": [],
   "source": [
    "numeric_data = data.drop(['League','Division','NewLeague'],axis = 1)"
   ]
  },
  {
   "cell_type": "code",
   "execution_count": 21,
   "id": "e09c7216",
   "metadata": {},
   "outputs": [],
   "source": [
    "scaler = StandardScaler()"
   ]
  },
  {
   "cell_type": "code",
   "execution_count": 22,
   "id": "36e5de7a",
   "metadata": {},
   "outputs": [],
   "source": [
    "scaled_data = scaler.fit_transform(numeric_data)"
   ]
  },
  {
   "cell_type": "code",
   "execution_count": 23,
   "id": "a605a868",
   "metadata": {},
   "outputs": [],
   "source": [
    "X = data_encoded[['CRuns']]"
   ]
  },
  {
   "cell_type": "code",
   "execution_count": 24,
   "id": "5aaef00b",
   "metadata": {},
   "outputs": [],
   "source": [
    "cluster = AgglomerativeClustering(n_clusters=3,affinity='euclidean',linkage='ward')"
   ]
  },
  {
   "cell_type": "code",
   "execution_count": 26,
   "id": "ca237a5e",
   "metadata": {},
   "outputs": [
    {
     "name": "stderr",
     "output_type": "stream",
     "text": [
      "C:\\Users\\ADMIN\\Desktop\\sample_project_1\\env\\Lib\\site-packages\\sklearn\\cluster\\_agglomerative.py:1006: FutureWarning: Attribute `affinity` was deprecated in version 1.2 and will be removed in 1.4. Use `metric` instead\n",
      "  warnings.warn(\n"
     ]
    }
   ],
   "source": [
    "data['cluster'] = cluster.fit_predict(X)"
   ]
  },
  {
   "cell_type": "code",
   "execution_count": 27,
   "id": "edd9eea9",
   "metadata": {},
   "outputs": [
    {
     "data": {
      "text/plain": [
       "<Figure size 1000x800 with 0 Axes>"
      ]
     },
     "execution_count": 27,
     "metadata": {},
     "output_type": "execute_result"
    },
    {
     "data": {
      "text/plain": [
       "<Figure size 1000x800 with 0 Axes>"
      ]
     },
     "metadata": {},
     "output_type": "display_data"
    }
   ],
   "source": [
    "plt.figure(figsize=(10,8))\n",
    "sns.scatterplot(x = 'CRuns', y = '')"
   ]
  },
  {
   "cell_type": "code",
   "execution_count": null,
   "id": "c9206a55",
   "metadata": {},
   "outputs": [],
   "source": []
  }
 ],
 "metadata": {
  "kernelspec": {
   "display_name": "Python 3 (ipykernel)",
   "language": "python",
   "name": "python3"
  },
  "language_info": {
   "codemirror_mode": {
    "name": "ipython",
    "version": 3
   },
   "file_extension": ".py",
   "mimetype": "text/x-python",
   "name": "python",
   "nbconvert_exporter": "python",
   "pygments_lexer": "ipython3",
   "version": "3.11.4"
  }
 },
 "nbformat": 4,
 "nbformat_minor": 5
}
